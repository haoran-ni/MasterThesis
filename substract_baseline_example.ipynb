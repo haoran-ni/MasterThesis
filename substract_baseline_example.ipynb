{
 "cells": [
  {
   "cell_type": "code",
   "execution_count": 1,
   "id": "55229ffe",
   "metadata": {},
   "outputs": [],
   "source": [
    "from matplotlib import pylab as plt\n",
    "from itertools import compress\n",
    "import xml.etree.ElementTree as ET\n",
    "from scipy.interpolate import CubicSpline\n",
    "from scipy.optimize import curve_fit\n",
    "from ase import Atoms, Atom\n",
    "\n",
    "from tqdm.notebook import tqdm\n",
    "\n",
    "from time import time\n",
    "import math\n",
    "\n",
    "import ase\n",
    "from ase.io import read, write\n",
    "from ase.visualize import view\n",
    "from ase.geometry import wrap_positions\n",
    "from ase.calculators.singlepoint import SinglePointCalculator\n",
    "import numpy as np"
   ]
  },
  {
   "cell_type": "code",
   "execution_count": 2,
   "id": "3a955b2e",
   "metadata": {},
   "outputs": [],
   "source": [
    "def EF_baseline(frame, f, r_cut):\n",
    "    \n",
    "    '''\n",
    "    \n",
    "    f is the function of the baseline, it should take the distance r as the only input. \n",
    "    When using CubicSpline() to fit the baseline function f, please set 'extrapolate' = False.\n",
    "    The unit of function f should be eV/atom.\n",
    "    \n",
    "    r_cut is the cut-off radius, only atoms within this radius will be considered.\n",
    "    \n",
    "    frame is an Atoms object, for each atom in this Atoms object, we calculate its \n",
    "    distance to other atoms within the cutoff radius and substract the baseline energy.\n",
    "    \n",
    "    '''\n",
    "    \n",
    "    f_deri = f.derivative() # don't forget the minus sign below\n",
    "    \n",
    "    vec_cell = frame.cell.cellpar()\n",
    "    M1, M2, M3 = vec_cell[0]**2, vec_cell[1]**2, vec_cell[2]**2\n",
    "    M12 = vec_cell[0]*vec_cell[1]*np.cos(vec_cell[5]*np.pi/180)\n",
    "    M13 = vec_cell[0]*vec_cell[2]*np.cos(vec_cell[4]*np.pi/180)\n",
    "    M23 = vec_cell[1]*vec_cell[2]*np.cos(vec_cell[3]*np.pi/180)\n",
    "    det_M = M1*M2*M3-M1*M23**2-M2*M13**2-M3*M12**2+2*M12*M13*M23\n",
    "    N1=math.ceil(np.sqrt((M2*M3-M23**2)/det_M)*r_cut)\n",
    "    N2=math.ceil(np.sqrt((M1*M3-M13**2)/det_M)*r_cut)\n",
    "    N3=math.ceil(np.sqrt((M1*M2-M12**2)/det_M)*r_cut)\n",
    "    \n",
    "    pbc = frame.get_pbc()\n",
    "    number = len(frame)\n",
    "    \n",
    "    cell_size = [(2*N1+1) if pbc[0] else 1,\n",
    "                  (2*N2+1) if pbc[1] else 1, \n",
    "                  (2*N3+1) if pbc[2] else 1]\n",
    "    center_index = math.floor(np.prod(cell_size)/2)\n",
    "    il = center_index*number\n",
    "    ih = (center_index+1)*number\n",
    "    \n",
    "    frame2=frame*(cell_size[0],cell_size[1],cell_size[2])\n",
    "\n",
    "    frc_list = np.zeros((number,3))\n",
    "    base_energy = 0\n",
    "    \n",
    "    dist_idx = np.arange((len(frame2)))\n",
    "    \n",
    "    for i in range(il,ih):\n",
    "        i_energy=0\n",
    "        # i actually corresponds to the i-th row of get_all_distances(), which is the distances from the i+1 th atom to all atoms.\n",
    "        i_distances = frame2.get_distances(i,dist_idx)\n",
    "        for j in dist_idx:\n",
    "            if str(f(i_distances[j])) != 'nan':\n",
    "                if center_index*number <= j < (center_index+1)*number:\n",
    "                    i_energy += float(f(i_distances[j]))/2\n",
    "                    frc_norm = -f_deri(i_distances[j])\n",
    "                    rel_vec = normalize( frame2[i].position - frame2[j].position )\n",
    "                    frc_vec = frc_norm * rel_vec\n",
    "                    frc_list[i-il,0] += frc_vec[0]\n",
    "                    frc_list[i-il,1] += frc_vec[1]\n",
    "                    frc_list[i-il,2] += frc_vec[2]\n",
    "                else:\n",
    "                    i_energy += float(f(i_distances[j]))\n",
    "                    frc_norm = -f_deri(i_distances[j])\n",
    "                    rel_vec = normalize( frame2[i].position - frame2[j].position )\n",
    "                    frc_vec = frc_norm * rel_vec\n",
    "                    frc_list[i-il,0] += frc_vec[0]\n",
    "                    frc_list[i-il,1] += frc_vec[1]\n",
    "                    frc_list[i-il,2] += frc_vec[2]\n",
    "            else:\n",
    "                pass    \n",
    "        base_energy += i_energy\n",
    "    return base_energy, frc_list\n",
    "\n",
    "\n",
    "def normalize(v):\n",
    "    '''\n",
    "    v is a numpy array\n",
    "    '''\n",
    "    norm = np.linalg.norm(v)\n",
    "    if norm == 0: \n",
    "        return v\n",
    "    else:\n",
    "        return v / norm"
   ]
  },
  {
   "cell_type": "code",
   "execution_count": 3,
   "id": "121bc55c",
   "metadata": {},
   "outputs": [
    {
     "data": {
      "image/png": "[encoded data removed]",
      "text/plain": [
       "<Figure size 432x288 with 1 Axes>"
      ]
     },
     "metadata": {
      "needs_background": "light"
     },
     "output_type": "display_data"
    }
   ],
   "source": [
    "# Obtain the R6 baseline function\n",
    "\n",
    "# Read data from .xml file and extract the distance-energy value.\n",
    "tree = ET.parse('P_r6_innercut.xml')\n",
    "root = tree.getroot()\n",
    "\n",
    "r=[]\n",
    "energy=[]\n",
    "for i in root.iter('potential_pair'):\n",
    "    for j in i.iter():\n",
    "        if j.tag != 'potential_pair':\n",
    "            r.append(float(j.attrib['r']))\n",
    "            energy.append(float(j.attrib['E']))\n",
    "        else:\n",
    "            pass\n",
    "\n",
    "energy=np.array(energy)/2\n",
    "r=np.array(r)\n",
    "\n",
    "r_new = np.linspace(2.8,20,500)\n",
    "\n",
    "\n",
    "### base_func is the ultimate baseline function! Its domain is [3,20].\n",
    "\n",
    "base_func = CubicSpline(r, energy, bc_type = 'clamped',extrapolate = False)\n",
    "plt.plot(r, energy, 'o', r_new, base_func(r_new), '-')\n",
    "plt.show()"
   ]
  },
  {
   "cell_type": "code",
   "execution_count": 4,
   "id": "4c7494e7",
   "metadata": {},
   "outputs": [
    {
     "data": {
      "application/vnd.jupyter.widget-view+json": {
       "model_id": "9632158a23a042c78133041aa1055c66",
       "version_major": 2,
       "version_minor": 0
      },
      "text/plain": [
       "  0%|          | 0/100 [00:00<?, ?it/s]"
      ]
     },
     "metadata": {},
     "output_type": "display_data"
    },
    {
     "name": "stdout",
     "output_type": "stream",
     "text": [
      "Execution time:  84.9412772655487 s\n"
     ]
    }
   ],
   "source": [
    "N = 100\n",
    "frames = read('exfoliation_mbd_reference.xyz', index=':{}'.format(N))\n",
    "\n",
    "for frame in frames:\n",
    "    frame.set_positions(wrap_positions(frame.get_positions(),frame.get_cell(),eps=1e-10))\n",
    "\n",
    "# for some frames, stress is not available, so we omit it.\n",
    "start = time()\n",
    "for frame in tqdm(frames):\n",
    "    e = frame.calc.results['energy'] - EF_baseline(frame, base_func, 20.)[0]\n",
    "    f = frame.calc.results['forces'] - EF_baseline(frame, base_func, 20.)[1]\n",
    "    frame.calc = SinglePointCalculator(atoms=frame,energy=e,\n",
    "                                       forces=f,\n",
    "                                      )\n",
    "print (\"Execution time: \", time()-start, \"s\")"
   ]
  },
  {
   "cell_type": "code",
   "execution_count": 5,
   "id": "48e23c32",
   "metadata": {
    "scrolled": true
   },
   "outputs": [
    {
     "name": "stderr",
     "output_type": "stream",
     "text": [
      "/home/haoran/.local/lib/python3.8/site-packages/ase/io/extxyz.py:1000: UserWarning: write_xyz() overwriting array \"forces\" present in atoms.arrays with stored results from calculator\n",
      "  warnings.warn('write_xyz() overwriting array \"{0}\" present '\n"
     ]
    }
   ],
   "source": [
    "write('exfoliation_mbd_no_baseline.xyz',frames)"
   ]
  }
 ],
 "metadata": {
  "kernelspec": {
   "display_name": "Python 3 (ipykernel)",
   "language": "python",
   "name": "python3"
  },
  "language_info": {
   "codemirror_mode": {
    "name": "ipython",
    "version": 3
   },
   "file_extension": ".py",
   "mimetype": "text/x-python",
   "name": "python",
   "nbconvert_exporter": "python",
   "pygments_lexer": "ipython3",
   "version": "3.8.10"
  }
 },
 "nbformat": 4,
 "nbformat_minor": 5
}
