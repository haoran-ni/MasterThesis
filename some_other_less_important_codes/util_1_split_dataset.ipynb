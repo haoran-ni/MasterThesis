{
 "cells": [
  {
   "cell_type": "code",
   "execution_count": 1,
   "id": "27545ecd",
   "metadata": {},
   "outputs": [],
   "source": [
    "import numpy as np\n",
    "import matplotlib.pyplot as plt\n",
    "import sklearn.model_selection\n",
    "import copy\n",
    "from sklearn.metrics import mean_squared_error\n",
    "\n",
    "import ase.io\n",
    "import equistore.io\n",
    "\n",
    "\n",
    "# from utils.librascal import RascalSphericalExpansion\n",
    "from utils.rascaline import RascalineSphericalExpansion\n",
    "from utils.models.soap import compute_power_spectrum\n",
    "\n",
    "from utils.models.linear import LinearModel\n",
    "from utils.models.full_kernel import FullKernelGap\n",
    "from utils.models.sparse_kernel import SparseKernelGap\n",
    "from utils.models.sparse_kernel import select_support_points, SparseKernelGap\n",
    "from utils.pylode import PyLODESphericalExpansion"
   ]
  },
  {
   "cell_type": "code",
   "execution_count": 2,
   "id": "96af4f63",
   "metadata": {},
   "outputs": [],
   "source": [
    "def framesSplittor(frames, atomsMax = 1000, framesMin = 5):\n",
    "    '''\n",
    "    INPUTS:\n",
    "    frames: Frames to be splitted\n",
    "    atomsMax: The maximum number of atoms/environments in a splitted subset\n",
    "    framesMin: The minimum number of frames in a splitted subset\n",
    "    \n",
    "    OUTPUTS:\n",
    "    A list containing the splitted subsets of the frames\n",
    "    '''\n",
    "    n=len(frames)\n",
    "    sliceList=[]\n",
    "    tempList=[]\n",
    "    for i in np.arange(n):\n",
    "        tempList.append(i)\n",
    "        if i == n-1:\n",
    "            sliceList.append(slice(tempList[0],tempList[-1]+1))\n",
    "            del tempList\n",
    "        else:\n",
    "            if len(tempList) < framesMin:\n",
    "                continue\n",
    "            else:\n",
    "                if np.sum([len(frames[nn]) for nn in tempList]) < atomsMax:\n",
    "                    continue\n",
    "                else:\n",
    "                    sliceList.append(slice(tempList[0],tempList[-1]+1))\n",
    "                    tempList=[]\n",
    "    \n",
    "#     # check sliceList\n",
    "#     print(sliceList)\n",
    "    \n",
    "    framesList = []\n",
    "    for s in sliceList:\n",
    "        framesList.append(frames[s])\n",
    "    \n",
    "    return framesList"
   ]
  },
  {
   "cell_type": "code",
   "execution_count": 3,
   "id": "0ba958bb",
   "metadata": {},
   "outputs": [],
   "source": [
    "frames = ase.io.read(\"P_GAP_20_fitting_data.xyz\", \":\")"
   ]
  },
  {
   "cell_type": "code",
   "execution_count": 4,
   "id": "f1e0337f",
   "metadata": {},
   "outputs": [],
   "source": [
    "spf = framesSplittor(frames)"
   ]
  },
  {
   "cell_type": "code",
   "execution_count": 5,
   "id": "461723fc",
   "metadata": {},
   "outputs": [
    {
     "name": "stderr",
     "output_type": "stream",
     "text": [
      "/home/haoran/.local/lib/python3.8/site-packages/ase/io/extxyz.py:1000: UserWarning: write_xyz() overwriting array \"forces\" present in atoms.arrays with stored results from calculator\n",
      "  warnings.warn('write_xyz() overwriting array \"{0}\" present '\n"
     ]
    }
   ],
   "source": [
    "for ss in np.arange(len(spf)):\n",
    "    ase.io.write('./splittedFrames/subset_{}.xyz'.format(ss),spf[ss])"
   ]
  },
  {
   "cell_type": "code",
   "execution_count": 6,
   "id": "3f862f03",
   "metadata": {},
   "outputs": [],
   "source": [
    "### IMPORTANT!\n",
    "### The naming of the files are:\n",
    "### splitted subsets: ./splittedFrames/subset_{}.xyz\n",
    "\n",
    "### for each subset, we have a specific python file and job submit file on HPC\n",
    "### named as: ./splittedCalculations/computeFeature_{}.py\n",
    "### and ./splittedCalculations/job_{}.py\n",
    "\n",
    "### The computed feature matrix will be stored as: \n",
    "### ./splittedFeatureMatrix/tensorMap_{}.npz\n",
    "\n",
    "### eventually, the 4.2_read_splitted_tensorMap_and_combine will read these .npz\n",
    "### files and combine the feature matrix"
   ]
  }
 ],
 "metadata": {
  "kernelspec": {
   "display_name": "Python 3 (ipykernel)",
   "language": "python",
   "name": "python3"
  },
  "language_info": {
   "codemirror_mode": {
    "name": "ipython",
    "version": 3
   },
   "file_extension": ".py",
   "mimetype": "text/x-python",
   "name": "python",
   "nbconvert_exporter": "python",
   "pygments_lexer": "ipython3",
   "version": "3.8.10"
  }
 },
 "nbformat": 4,
 "nbformat_minor": 5
}
