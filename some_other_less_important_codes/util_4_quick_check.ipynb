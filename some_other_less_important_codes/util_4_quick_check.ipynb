{
 "cells": [
  {
   "cell_type": "code",
   "execution_count": 1,
   "id": "27545ecd",
   "metadata": {},
   "outputs": [],
   "source": [
    "import numpy as np\n",
    "import matplotlib.pyplot as plt\n",
    "import sklearn.model_selection\n",
    "import copy\n",
    "from sklearn.metrics import mean_squared_error\n",
    "\n",
    "import ase.io\n",
    "import equistore.io\n",
    "\n",
    "\n",
    "# from utils.librascal import RascalSphericalExpansion\n",
    "from utils.rascaline import RascalineSphericalExpansion\n",
    "from utils.models.soap import compute_power_spectrum\n",
    "\n",
    "from utils.models.linear import LinearModel\n",
    "from utils.models.full_kernel import FullKernelGap\n",
    "from utils.models.sparse_kernel import SparseKernelGap\n",
    "from utils.models.sparse_kernel import select_support_points, SparseKernelGap\n",
    "from utils.pylode import PyLODESphericalExpansion\n",
    "from utils.io import write"
   ]
  },
  {
   "cell_type": "code",
   "execution_count": 2,
   "id": "0ba958bb",
   "metadata": {},
   "outputs": [],
   "source": [
    "tensorMapMerged = equistore.io.load('./tensorMapMerged.npz')"
   ]
  },
  {
   "cell_type": "code",
   "execution_count": 3,
   "id": "cf5f1631",
   "metadata": {},
   "outputs": [],
   "source": [
    "frames = ase.io.read(\"exfoliation_mbd_reference.xyz\", \":\")\n",
    "\n",
    "train_energy = np.array([\n",
    "    frame.info[\"energy\"] for frame in frames\n",
    "])\n",
    "\n",
    "train_forces = np.vstack([\n",
    "    frame.arrays[\"forces\"] for frame in frames\n",
    "])\n",
    "\n",
    "\n",
    "import parentParameters as pp\n",
    "calculator_lr = PyLODESphericalExpansion(pp.hypers_lr)\n",
    "descriptor_lr = calculator_lr.compute(frames)\n",
    "inv_lrlr = compute_power_spectrum(descriptor_lr)\n",
    "inv_lrlr.keys_to_properties(['neighbor_species_1', 'neighbor_species_2'])\n",
    "inv_lrlr.keys_to_samples('center_species')"
   ]
  },
  {
   "cell_type": "code",
   "execution_count": 4,
   "id": "4586b965",
   "metadata": {},
   "outputs": [
    {
     "name": "stdout",
     "output_type": "stream",
     "text": [
      "True\n",
      "\n",
      "True\n"
     ]
    }
   ],
   "source": [
    "print(tensorMapMerged.block(0).has_gradient('positions'))\n",
    "print('')\n",
    "print(inv_lrlr.block(0).has_gradient('positions'))"
   ]
  },
  {
   "cell_type": "code",
   "execution_count": 5,
   "id": "bf4376c0",
   "metadata": {},
   "outputs": [],
   "source": [
    "model_lrlr = LinearModel(normalize=True, regularizer=[1e-4, 5e-4])\n",
    "\n",
    "model_lrlr.fit(inv_lrlr, train_energy, train_forces)\n",
    "\n",
    "pred_energy_lrlr, pred_forces_lrlr = model_lrlr.predict(inv_lrlr, with_forces=True)"
   ]
  },
  {
   "cell_type": "code",
   "execution_count": 12,
   "id": "a3e49b6e",
   "metadata": {},
   "outputs": [
    {
     "name": "stdout",
     "output_type": "stream",
     "text": [
      "(6400, 3, 100)\n",
      "(6400, 3, 100)\n",
      "[ 0  1  2  3  4  5  6  7  8  9 10 11 12 13 14 15 16 17 18 19 20 21 22 23\n",
      " 24 25 26 27 28 29 30 31 32 33 34 35 36 37 38 39 40 41 42 43 44 45 46 47\n",
      " 48 49 50 51 52 53 54 55 56 57 58 59 60 61 62 63 64 65 66 67 68 69 70 71\n",
      " 72 73 74 75 76 77 78 79 80 81 82 83 84 85 86 87 88 89 90 91 92 93 94 95\n",
      " 96 97 98 99]\n",
      "[ 0  1  2  3  4  5  6  7  8  9 10 11 12 13 14 15 16 17 18 19 20 21 22 23\n",
      " 24 25 26 27 28 29 30 31 32 33 34 35 36 37 38 39 40 41 42 43 44 45 46 47\n",
      " 48 49 50 51 52 53 54 55 56 57 58 59 60 61 62 63 64 65 66 67 68 69 70 71\n",
      " 72 73 74 75 76 77 78 79 80 81 82 83 84 85 86 87 88 89 90 91 92 93 94 95\n",
      " 96 97 98 99]\n",
      "True\n"
     ]
    }
   ],
   "source": [
    "# for i in np.arange(len(tensorMapMerged.block(0).values)):\n",
    "#     for j in np.arange(len(tensorMapMerged.block(0).values[i])):\n",
    "#         if tensorMapMerged.block(0).values[i][j] != inv_lrlr.block(0).values[i][j]:\n",
    "#             print(\"Warning\")\n",
    "#         else:\n",
    "#             continue\n",
    "            \n",
    "print(tensorMapMerged.block(0).gradient('positions').data.shape)\n",
    "\n",
    "print(inv_lrlr.block(0).gradient('positions').data.shape)\n",
    "\n",
    "# for i in np.arange(tensorMapMerged.block(0).gradient('positions').data.shape[0]):\n",
    "#     for j in np.arange(tensorMapMerged.block(0).gradient('positions').data.shape[1]):\n",
    "#         for k in np.arange(tensorMapMerged.block(0).gradient('positions').data.shape[2]):\n",
    "#             if tensorMapMerged.block(0).gradient('positions').data[i][j][k] != inv_lrlr.block(0).gradient('positions').data[i][j][k]:\n",
    "#                 print('Warning')\n",
    "#             else:\n",
    "#                 continue\n",
    "\n",
    "\n",
    "structures = np.unique(tensorMapMerged.block(0).samples['structure'])\n",
    "print(structures)\n",
    "\n",
    "gradStructures = np.unique(tensorMapMerged.block(0).gradient('positions').samples['structure'])\n",
    "print(gradStructures)\n",
    "\n",
    "print(np.all(\n",
    "    np.unique(tensorMapMerged.block(0).gradient('positions').samples['structure']) == structures\n",
    "))\n"
   ]
  }
 ],
 "metadata": {
  "kernelspec": {
   "display_name": "Python 3 (ipykernel)",
   "language": "python",
   "name": "python3"
  },
  "language_info": {
   "codemirror_mode": {
    "name": "ipython",
    "version": 3
   },
   "file_extension": ".py",
   "mimetype": "text/x-python",
   "name": "python",
   "nbconvert_exporter": "python",
   "pygments_lexer": "ipython3",
   "version": "3.8.10"
  }
 },
 "nbformat": 4,
 "nbformat_minor": 5
}
