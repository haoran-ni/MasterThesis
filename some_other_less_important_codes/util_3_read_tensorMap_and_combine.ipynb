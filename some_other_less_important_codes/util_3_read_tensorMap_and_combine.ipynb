{
 "cells": [
  {
   "cell_type": "code",
   "execution_count": 1,
   "id": "27545ecd",
   "metadata": {},
   "outputs": [],
   "source": [
    "import numpy as np\n",
    "import matplotlib.pyplot as plt\n",
    "import sklearn.model_selection\n",
    "import copy\n",
    "from sklearn.metrics import mean_squared_error\n",
    "\n",
    "import ase.io\n",
    "import equistore.io\n",
    "\n",
    "\n",
    "# from utils.librascal import RascalSphericalExpansion\n",
    "from utils.rascaline import RascalineSphericalExpansion\n",
    "from utils.models.soap import compute_power_spectrum\n",
    "\n",
    "from utils.models.linear import LinearModel\n",
    "from utils.models.full_kernel import FullKernelGap\n",
    "from utils.models.sparse_kernel import SparseKernelGap\n",
    "from utils.models.sparse_kernel import select_support_points, SparseKernelGap\n",
    "from utils.pylode import PyLODESphericalExpansion\n",
    "from utils.io import write"
   ]
  },
  {
   "cell_type": "code",
   "execution_count": 2,
   "id": "0ba958bb",
   "metadata": {},
   "outputs": [],
   "source": [
    "N = 4 # should be the actual index+1 because we are using np.arange(1,N)\n",
    "from TensorMapCombinator import TensorMapCombinator\n",
    "\n",
    "tensorMapMerged = equistore.io.load('./splittedFeatureMatrix/tensorMap_0.npz')\n",
    "\n",
    "for n in np.arange(1,N):\n",
    "    tensorMapTemp = equistore.io.load('./splittedFeatureMatrix/tensorMap_{}.npz'.format(n))\n",
    "    tensorMapMerged = TensorMapCombinator(tensorMapMerged, tensorMapTemp)"
   ]
  },
  {
   "cell_type": "code",
   "execution_count": 3,
   "id": "76ae8aa9",
   "metadata": {},
   "outputs": [],
   "source": [
    "equistore.io.save('./tensorMapMerged.npz',tensorMapMerged)"
   ]
  }
 ],
 "metadata": {
  "kernelspec": {
   "display_name": "Python 3 (ipykernel)",
   "language": "python",
   "name": "python3"
  },
  "language_info": {
   "codemirror_mode": {
    "name": "ipython",
    "version": 3
   },
   "file_extension": ".py",
   "mimetype": "text/x-python",
   "name": "python",
   "nbconvert_exporter": "python",
   "pygments_lexer": "ipython3",
   "version": "3.8.10"
  }
 },
 "nbformat": 4,
 "nbformat_minor": 5
}
