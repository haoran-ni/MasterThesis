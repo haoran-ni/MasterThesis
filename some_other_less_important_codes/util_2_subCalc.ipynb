{
 "cells": [
  {
   "cell_type": "code",
   "execution_count": 16,
   "id": "27545ecd",
   "metadata": {},
   "outputs": [],
   "source": [
    "import numpy as np\n",
    "import matplotlib.pyplot as plt\n",
    "import sklearn.model_selection\n",
    "import copy\n",
    "from sklearn.metrics import mean_squared_error\n",
    "\n",
    "import ase.io\n",
    "import equistore.io\n",
    "\n",
    "\n",
    "# from utils.librascal import RascalSphericalExpansion\n",
    "from utils.rascaline import RascalineSphericalExpansion\n",
    "from utils.models.soap import compute_power_spectrum\n",
    "\n",
    "from utils.models.linear import LinearModel\n",
    "from utils.models.full_kernel import FullKernelGap\n",
    "from utils.models.sparse_kernel import SparseKernelGap\n",
    "from utils.models.sparse_kernel import select_support_points, SparseKernelGap\n",
    "from utils.pylode import PyLODESphericalExpansion\n",
    "from utils.io import write"
   ]
  },
  {
   "cell_type": "code",
   "execution_count": 17,
   "id": "0ba958bb",
   "metadata": {},
   "outputs": [
    {
     "name": "stdout",
     "output_type": "stream",
     "text": [
      "Subset number: 3\n"
     ]
    }
   ],
   "source": [
    "N = input(\"Subset number: \")\n",
    "\n",
    "frames = ase.io.read(\"./splittedFrames/subset_{}.xyz\".format(N), \":\")"
   ]
  },
  {
   "cell_type": "code",
   "execution_count": 18,
   "id": "789cfed1",
   "metadata": {},
   "outputs": [],
   "source": [
    "import parentParameters as pp"
   ]
  },
  {
   "cell_type": "code",
   "execution_count": 19,
   "id": "c0c90e70",
   "metadata": {},
   "outputs": [],
   "source": [
    "calculator_lr = PyLODESphericalExpansion(pp.hypers_lr)\n",
    "descriptor_lr = calculator_lr.compute(frames)\n",
    "inv_lrlr = compute_power_spectrum(descriptor_lr)\n",
    "inv_lrlr.keys_to_properties(['neighbor_species_1', 'neighbor_species_2'])\n",
    "inv_lrlr.keys_to_samples('center_species')"
   ]
  },
  {
   "cell_type": "code",
   "execution_count": 20,
   "id": "56cb8ce9",
   "metadata": {},
   "outputs": [],
   "source": [
    "equistore.io.save('./splittedFeatureMatrix/tensorMap_{}.npz'.format(N),inv_lrlr)"
   ]
  }
 ],
 "metadata": {
  "kernelspec": {
   "display_name": "Python 3 (ipykernel)",
   "language": "python",
   "name": "python3"
  },
  "language_info": {
   "codemirror_mode": {
    "name": "ipython",
    "version": 3
   },
   "file_extension": ".py",
   "mimetype": "text/x-python",
   "name": "python",
   "nbconvert_exporter": "python",
   "pygments_lexer": "ipython3",
   "version": "3.8.10"
  }
 },
 "nbformat": 4,
 "nbformat_minor": 5
}
